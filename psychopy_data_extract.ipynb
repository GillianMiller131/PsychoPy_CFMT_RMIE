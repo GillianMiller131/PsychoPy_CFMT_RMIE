{
 "cells": [
  {
   "cell_type": "code",
   "execution_count": 68,
   "id": "38b5cbbd-4d50-4326-a174-eec45c5fc966",
   "metadata": {},
   "outputs": [],
   "source": [
    "import glob\n",
    "import pandas as pd\n",
    "import os\n",
    "import numpy as np"
   ]
  },
  {
   "cell_type": "markdown",
   "id": "4f0b9ba1-b507-44df-9e0a-14ad3100f181",
   "metadata": {},
   "source": [
    "## Location of the Raw Data from PsychoPy"
   ]
  },
  {
   "cell_type": "code",
   "execution_count": 2,
   "id": "45eb8c59-275c-48bb-aea7-5d7f1cd28960",
   "metadata": {},
   "outputs": [],
   "source": [
    "raw_data_loc='data_raw'"
   ]
  },
  {
   "cell_type": "markdown",
   "id": "c4f72c12-490f-4921-b149-1b386606970c",
   "metadata": {},
   "source": [
    "## CSV Templates for RedCap Upload Formatting"
   ]
  },
  {
   "cell_type": "code",
   "execution_count": 26,
   "id": "02ffa6aa-b02d-4405-b552-0bc269778a0b",
   "metadata": {},
   "outputs": [],
   "source": [
    "cfmt_u_upload=pd.read_csv('upload_templates/cfmt_u_template.csv')\n",
    "rmie_upload=pd.read_csv('upload_templates/rmie_template.csv')\n",
    "cfmt_i_upload=pd.read_csv('upload_templates/cfmt_i_template.csv')"
   ]
  },
  {
   "cell_type": "markdown",
   "id": "7f629a35-eafa-448a-8d91-76487b6b0fdd",
   "metadata": {
    "tags": []
   },
   "source": [
    "## CFMT Upright "
   ]
  },
  {
   "cell_type": "code",
   "execution_count": 3,
   "id": "8cdd9029-38bb-4c33-b2cd-8049ad62655c",
   "metadata": {},
   "outputs": [],
   "source": [
    "cfmt_u_files=glob.glob(raw_data_loc  +  \"/*CFMT_U*.csv\")"
   ]
  },
  {
   "cell_type": "code",
   "execution_count": 27,
   "id": "1bd23196-f7c8-404b-8c4d-e767999f7421",
   "metadata": {},
   "outputs": [],
   "source": [
    "for i in cfmt_u_files:\n",
    "\n",
    "    subj_id=i.split(\"/\")[-1].split(\"_\")[0]\n",
    "    study_id=subj_id[1:4]\n",
    "    study_id=int(study_id)\n",
    "    \n",
    "    df=pd.read_csv(i)\n",
    "\n",
    "    practice=df['Response.keys'].dropna().tolist()\n",
    "    \n",
    "    learn_df = df.dropna(subset=['Answer.keys'])\n",
    "    learn_list = learn_df[['Answer.keys', 'Answer_2.keys', 'Answer_3.keys']].values.ravel().tolist()\n",
    "\n",
    "    novel=df['Answer_4.keys'].dropna().tolist()\n",
    "    noise=df['Answer_5.keys'].dropna().tolist()\n",
    "    \n",
    "    \n",
    "    data = [study_id, 'ra_record_keeping_arm_1', subj_id, df['date'].iloc[0].split(\"_\")[0] ] + practice + learn_list + novel + noise + [2]\n",
    "        \n",
    "    cfmt_u_upload.loc[len(cfmt_u_upload)] = data"
   ]
  },
  {
   "cell_type": "markdown",
   "id": "8f3df454-f3ab-4248-9c5c-692296ad7b16",
   "metadata": {
    "tags": []
   },
   "source": [
    "## RMIE"
   ]
  },
  {
   "cell_type": "code",
   "execution_count": 42,
   "id": "d4d74932-ad79-4f92-a001-c5d4fd4c82ff",
   "metadata": {},
   "outputs": [],
   "source": [
    "rmie_files=glob.glob(raw_data_loc  +  \"/*RMIE*.csv\")"
   ]
  },
  {
   "cell_type": "code",
   "execution_count": 44,
   "id": "c201660d-a7f4-417f-8499-c57dca3ecc39",
   "metadata": {},
   "outputs": [],
   "source": [
    "for i in rmie_files:\n",
    "\n",
    "    subj_id=i.split(\"/\")[-1].split(\"_\")[0]\n",
    "    \n",
    "    \n",
    "    df=pd.read_csv(i)\n",
    "    date=df['date'].iloc[0].split(\"_\")[0]\n",
    "    \n",
    "    \n",
    "    responses=df['key_resp.keys'].dropna().tolist()\n",
    "    data=[subj_id, date ] + responses + [2]\n",
    "    \n",
    "    \n",
    "    rmie_upload.loc[len(rmie_upload)] = data"
   ]
  },
  {
   "cell_type": "markdown",
   "id": "f783c20b-2533-460f-8398-6eec9be9286f",
   "metadata": {
    "tags": []
   },
   "source": [
    "## CFMT Inverted "
   ]
  },
  {
   "cell_type": "code",
   "execution_count": 46,
   "id": "039314de-860f-4943-a3a3-77c66cdea684",
   "metadata": {},
   "outputs": [],
   "source": [
    "cfmt_i_files=glob.glob(raw_data_loc  +  \"/*CFMT_I*.csv\")"
   ]
  },
  {
   "cell_type": "code",
   "execution_count": 60,
   "id": "c7646fe2-4d67-4070-9ee4-8c72d92d9044",
   "metadata": {},
   "outputs": [],
   "source": [
    "for i in cfmt_i_files:\n",
    " \n",
    "    subj_id=i.split(\"/\")[-1].split(\"_\")[0]\n",
    "    study_id=subj_id[1:4]\n",
    "    study_id=int(study_id)\n",
    "    \n",
    "    df=pd.read_csv(i)\n",
    "\n",
    "    practice=df['Response.keys'].dropna().tolist()\n",
    "    \n",
    "    learn_df = df.dropna(subset=['Answer.keys'])\n",
    "    learn_list = learn_df[['Answer.keys', 'Answer_2.keys', 'Answer_3.keys']].values.ravel().tolist()\n",
    "\n",
    "    novel=df['Answer_4.keys'].dropna().tolist()\n",
    "    noise=df['Answer_5.keys'].dropna().tolist()\n",
    "    \n",
    "    question=df['key_resp_6.keys'].iloc[63]\n",
    "    \n",
    "    data = [ subj_id, df['date'].iloc[0].split(\"_\")[0] ] + practice + learn_list + novel + noise + [question] + [2]\n",
    "        \n",
    "    cfmt_i_upload.loc[len(cfmt_i_upload)] = data"
   ]
  },
  {
   "cell_type": "markdown",
   "id": "77747d1e-9af3-4443-a3af-5097e0c77601",
   "metadata": {
    "tags": []
   },
   "source": [
    "## Export"
   ]
  },
  {
   "cell_type": "code",
   "execution_count": 66,
   "id": "81b74adc-4450-46ee-a703-f667692b6632",
   "metadata": {},
   "outputs": [
    {
     "data": {
      "text/html": [
       "<div>\n",
       "<style scoped>\n",
       "    .dataframe tbody tr th:only-of-type {\n",
       "        vertical-align: middle;\n",
       "    }\n",
       "\n",
       "    .dataframe tbody tr th {\n",
       "        vertical-align: top;\n",
       "    }\n",
       "\n",
       "    .dataframe thead th {\n",
       "        text-align: right;\n",
       "    }\n",
       "</style>\n",
       "<table border=\"1\" class=\"dataframe\">\n",
       "  <thead>\n",
       "    <tr style=\"text-align: right;\">\n",
       "      <th></th>\n",
       "      <th>studyid</th>\n",
       "      <th>redcap_event_name</th>\n",
       "      <th>cfmt_a_u_part_id</th>\n",
       "      <th>cfmt_a_u_date_admin</th>\n",
       "      <th>cfmt_a_u_pa</th>\n",
       "      <th>cfmt_a_u_pb</th>\n",
       "      <th>cfmt_a_u_pc</th>\n",
       "      <th>cfmt_a_u_01</th>\n",
       "      <th>cfmt_a_u_02</th>\n",
       "      <th>cfmt_a_u_03</th>\n",
       "      <th>...</th>\n",
       "      <th>cfmt_a_i_65</th>\n",
       "      <th>cfmt_a_i_66</th>\n",
       "      <th>cfmt_a_i_67</th>\n",
       "      <th>cfmt_a_i_68</th>\n",
       "      <th>cfmt_a_i_69</th>\n",
       "      <th>cfmt_a_i_70</th>\n",
       "      <th>cfmt_a_i_71</th>\n",
       "      <th>cfmt_a_i_72</th>\n",
       "      <th>cfmt_a_i_hard</th>\n",
       "      <th>cambridge_face_and_memory_test_adults_inverted_complete</th>\n",
       "    </tr>\n",
       "  </thead>\n",
       "  <tbody>\n",
       "    <tr>\n",
       "      <th>0</th>\n",
       "      <td>0</td>\n",
       "      <td>ra_record_keeping_arm_1</td>\n",
       "      <td>P000</td>\n",
       "      <td>2024-05-04</td>\n",
       "      <td>1.0</td>\n",
       "      <td>2.0</td>\n",
       "      <td>2.0</td>\n",
       "      <td>2.0</td>\n",
       "      <td>3.0</td>\n",
       "      <td>3.0</td>\n",
       "      <td>...</td>\n",
       "      <td>2.0</td>\n",
       "      <td>1.0</td>\n",
       "      <td>2.0</td>\n",
       "      <td>3.0</td>\n",
       "      <td>2.0</td>\n",
       "      <td>1.0</td>\n",
       "      <td>2.0</td>\n",
       "      <td>3.0</td>\n",
       "      <td>1.0</td>\n",
       "      <td>2</td>\n",
       "    </tr>\n",
       "    <tr>\n",
       "      <th>1</th>\n",
       "      <td>0</td>\n",
       "      <td>ra_record_keeping_arm_1</td>\n",
       "      <td>P000</td>\n",
       "      <td>2024-05-04</td>\n",
       "      <td>1.0</td>\n",
       "      <td>2.0</td>\n",
       "      <td>2.0</td>\n",
       "      <td>2.0</td>\n",
       "      <td>3.0</td>\n",
       "      <td>3.0</td>\n",
       "      <td>...</td>\n",
       "      <td>2.0</td>\n",
       "      <td>1.0</td>\n",
       "      <td>2.0</td>\n",
       "      <td>3.0</td>\n",
       "      <td>2.0</td>\n",
       "      <td>1.0</td>\n",
       "      <td>2.0</td>\n",
       "      <td>3.0</td>\n",
       "      <td>1.0</td>\n",
       "      <td>2</td>\n",
       "    </tr>\n",
       "    <tr>\n",
       "      <th>2</th>\n",
       "      <td>0</td>\n",
       "      <td>ra_record_keeping_arm_1</td>\n",
       "      <td>P000</td>\n",
       "      <td>2024-05-04</td>\n",
       "      <td>1.0</td>\n",
       "      <td>2.0</td>\n",
       "      <td>2.0</td>\n",
       "      <td>2.0</td>\n",
       "      <td>2.0</td>\n",
       "      <td>3.0</td>\n",
       "      <td>...</td>\n",
       "      <td>2.0</td>\n",
       "      <td>1.0</td>\n",
       "      <td>2.0</td>\n",
       "      <td>3.0</td>\n",
       "      <td>2.0</td>\n",
       "      <td>1.0</td>\n",
       "      <td>2.0</td>\n",
       "      <td>3.0</td>\n",
       "      <td>1.0</td>\n",
       "      <td>2</td>\n",
       "    </tr>\n",
       "    <tr>\n",
       "      <th>3</th>\n",
       "      <td>0</td>\n",
       "      <td>ra_record_keeping_arm_1</td>\n",
       "      <td>P000</td>\n",
       "      <td>2024-05-04</td>\n",
       "      <td>1.0</td>\n",
       "      <td>2.0</td>\n",
       "      <td>2.0</td>\n",
       "      <td>2.0</td>\n",
       "      <td>2.0</td>\n",
       "      <td>3.0</td>\n",
       "      <td>...</td>\n",
       "      <td>2.0</td>\n",
       "      <td>1.0</td>\n",
       "      <td>2.0</td>\n",
       "      <td>3.0</td>\n",
       "      <td>2.0</td>\n",
       "      <td>1.0</td>\n",
       "      <td>2.0</td>\n",
       "      <td>3.0</td>\n",
       "      <td>1.0</td>\n",
       "      <td>2</td>\n",
       "    </tr>\n",
       "  </tbody>\n",
       "</table>\n",
       "<p>4 rows × 199 columns</p>\n",
       "</div>"
      ],
      "text/plain": [
       "   studyid        redcap_event_name cfmt_a_u_part_id cfmt_a_u_date_admin  \\\n",
       "0        0  ra_record_keeping_arm_1             P000          2024-05-04   \n",
       "1        0  ra_record_keeping_arm_1             P000          2024-05-04   \n",
       "2        0  ra_record_keeping_arm_1             P000          2024-05-04   \n",
       "3        0  ra_record_keeping_arm_1             P000          2024-05-04   \n",
       "\n",
       "   cfmt_a_u_pa  cfmt_a_u_pb  cfmt_a_u_pc  cfmt_a_u_01  cfmt_a_u_02  \\\n",
       "0          1.0          2.0          2.0          2.0          3.0   \n",
       "1          1.0          2.0          2.0          2.0          3.0   \n",
       "2          1.0          2.0          2.0          2.0          2.0   \n",
       "3          1.0          2.0          2.0          2.0          2.0   \n",
       "\n",
       "   cfmt_a_u_03  ...  cfmt_a_i_65  cfmt_a_i_66  cfmt_a_i_67  cfmt_a_i_68  \\\n",
       "0          3.0  ...          2.0          1.0          2.0          3.0   \n",
       "1          3.0  ...          2.0          1.0          2.0          3.0   \n",
       "2          3.0  ...          2.0          1.0          2.0          3.0   \n",
       "3          3.0  ...          2.0          1.0          2.0          3.0   \n",
       "\n",
       "   cfmt_a_i_69  cfmt_a_i_70  cfmt_a_i_71  cfmt_a_i_72  cfmt_a_i_hard  \\\n",
       "0          2.0          1.0          2.0          3.0            1.0   \n",
       "1          2.0          1.0          2.0          3.0            1.0   \n",
       "2          2.0          1.0          2.0          3.0            1.0   \n",
       "3          2.0          1.0          2.0          3.0            1.0   \n",
       "\n",
       "   cambridge_face_and_memory_test_adults_inverted_complete  \n",
       "0                                                  2        \n",
       "1                                                  2        \n",
       "2                                                  2        \n",
       "3                                                  2        \n",
       "\n",
       "[4 rows x 199 columns]"
      ]
     },
     "execution_count": 66,
     "metadata": {},
     "output_type": "execute_result"
    }
   ],
   "source": [
    "merged_df = pd.merge(cfmt_u_upload, rmie_upload, left_on='cfmt_a_u_part_id', right_on='rmie_a_part_id')\n",
    "merged_df = pd.merge(merged_df, cfmt_i_upload, left_on='cfmt_a_u_part_id', right_on='cfmt_a_i_part_id')"
   ]
  },
  {
   "cell_type": "code",
   "execution_count": 69,
   "id": "e9a8e50c-acad-454d-877a-a8a0509e4dfe",
   "metadata": {},
   "outputs": [],
   "source": [
    "merged_df = merged_df.apply(lambda x: x.astype(int) if x.dtype == np.float64 else x)"
   ]
  },
  {
   "cell_type": "code",
   "execution_count": 19,
   "id": "348573da-8712-4e9e-98aa-5fa550ec0861",
   "metadata": {},
   "outputs": [],
   "source": [
    "for_export=merged_df.set_index('studyid')"
   ]
  },
  {
   "cell_type": "code",
   "execution_count": 20,
   "id": "d16c5340-5414-4ba6-b1a4-2b14eae3e82b",
   "metadata": {},
   "outputs": [],
   "source": [
    "from datetime import date\n",
    "today = date.today()\n",
    "date = today.strftime(\"%Y%m%d\")"
   ]
  },
  {
   "cell_type": "code",
   "execution_count": 21,
   "id": "4fa6980b-dcbb-4807-aa98-e4af951547e0",
   "metadata": {},
   "outputs": [],
   "source": [
    "for_export.to_csv(f'CSV_for_RedCap_Upload_{date}.csv')"
   ]
  },
  {
   "cell_type": "code",
   "execution_count": 25,
   "id": "d60c2038-f6ab-4f6e-b81f-f9c7f48ae087",
   "metadata": {},
   "outputs": [],
   "source": [
    "source = 'data_raw'\n",
    "destination = 'uploaded_data'\n",
    "\n",
    "if not os.path.exists(destination):\n",
    "    os.makedirs(destination)\n",
    "    \n",
    "\n",
    "allfiles = os.listdir(source)\n",
    " \n",
    "for file in allfiles:\n",
    "    src_path = os.path.join(source, file)\n",
    "    dst_path = os.path.join(destination, file)\n",
    "    os.rename(src_path, dst_path)"
   ]
  },
  {
   "cell_type": "code",
   "execution_count": null,
   "id": "2bd9408d-2081-4c12-a044-6627eeae363c",
   "metadata": {},
   "outputs": [],
   "source": []
  }
 ],
 "metadata": {
  "kernelspec": {
   "display_name": "Python 3 (ipykernel)",
   "language": "python",
   "name": "python3"
  },
  "language_info": {
   "codemirror_mode": {
    "name": "ipython",
    "version": 3
   },
   "file_extension": ".py",
   "mimetype": "text/x-python",
   "name": "python",
   "nbconvert_exporter": "python",
   "pygments_lexer": "ipython3",
   "version": "3.9.13"
  }
 },
 "nbformat": 4,
 "nbformat_minor": 5
}
